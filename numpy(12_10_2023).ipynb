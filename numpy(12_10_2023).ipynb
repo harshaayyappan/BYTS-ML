{
  "nbformat": 4,
  "nbformat_minor": 0,
  "metadata": {
    "colab": {
      "provenance": [],
      "authorship_tag": "ABX9TyOUSmP5sU3gBSgwqFuGTiXI",
      "include_colab_link": true
    },
    "kernelspec": {
      "name": "python3",
      "display_name": "Python 3"
    },
    "language_info": {
      "name": "python"
    }
  },
  "cells": [
    {
      "cell_type": "markdown",
      "metadata": {
        "id": "view-in-github",
        "colab_type": "text"
      },
      "source": [
        "<a href=\"https://colab.research.google.com/github/harshaayyappan/BYTS-ML/blob/main/numpy(12_10_2023).ipynb\" target=\"_parent\"><img src=\"https://colab.research.google.com/assets/colab-badge.svg\" alt=\"Open In Colab\"/></a>"
      ]
    },
    {
      "cell_type": "code",
      "execution_count": null,
      "metadata": {
        "id": "4MoKT1GIONSq",
        "colab": {
          "base_uri": "https://localhost:8080/"
        },
        "outputId": "77695f7e-5a74-43c3-c380-2752fb0d2e54"
      },
      "outputs": [
        {
          "output_type": "stream",
          "name": "stdout",
          "text": [
            "[[7, 8, 9]]\n",
            "[[7, 8, 9], 1, 2, 3]\n",
            "[[7, 8, 9], 1, 2, 8, 3]\n"
          ]
        }
      ],
      "source": [
        "a = []\n",
        "a.append([7,8,9])\n",
        "print(a)\n",
        "\n",
        "a.extend([1,2,3])\n",
        "print(a)\n",
        "\n",
        "a.insert(3,8)\n",
        "print(a)"
      ]
    },
    {
      "cell_type": "code",
      "source": [
        "a = (1,2,3,4,4)\n",
        "print(a.count(4))\n",
        "print(a.index(2))"
      ],
      "metadata": {
        "colab": {
          "base_uri": "https://localhost:8080/"
        },
        "id": "lC31_PE0btz3",
        "outputId": "dce6c2e7-6320-4c1b-900a-e6bdd4b2996a"
      },
      "execution_count": null,
      "outputs": [
        {
          "output_type": "stream",
          "name": "stdout",
          "text": [
            "2\n",
            "1\n"
          ]
        }
      ]
    },
    {
      "cell_type": "code",
      "source": [
        "c = {1:'harsha',2:'dharsh',3:'dhanush'}\n",
        "print(c)\n",
        "c[4] = 'John'\n",
        "print(c)\n",
        "c[3] = 'hii'\n",
        "print(c)"
      ],
      "metadata": {
        "colab": {
          "base_uri": "https://localhost:8080/"
        },
        "id": "KLzhJggwcG6Y",
        "outputId": "adfa3924-c0b2-40f2-fa85-17d620e5aa52"
      },
      "execution_count": null,
      "outputs": [
        {
          "output_type": "stream",
          "name": "stdout",
          "text": [
            "{1: 'harsha', 2: 'dharsh', 3: 'dhanush'}\n",
            "{1: 'harsha', 2: 'dharsh', 3: 'dhanush', 4: 'John'}\n",
            "{1: 'harsha', 2: 'dharsh', 3: 'hii', 4: 'John'}\n"
          ]
        }
      ]
    },
    {
      "cell_type": "code",
      "source": [
        "import numpy as np\n",
        "a = np.array([1,2,3])\n",
        "print(a)\n",
        "print(a.shape)#provide the dimension of the created array - 1D or 2D like that\n",
        "print(type(a)) # provide the model\n",
        "b = np.array([[1,4,5],[6,7,8]])\n",
        "print(b.shape)\n",
        "c = np.arange(3,10)#assign the numbers present in the given range to the array\n",
        "print(c)\n",
        "o = np.arange(10,50,5)\n",
        "print(o)#first num is starting , 2nd is for ending and 3rd is for intervels\n",
        "g = np.linspace(0., 1., num=5)#split the number in the given range\n",
        "print(g)\n",
        "k = np.linspace(1,10,num=5)#starting and ending will be same inbetween those, they split\n",
        "print(k)"
      ],
      "metadata": {
        "colab": {
          "base_uri": "https://localhost:8080/"
        },
        "id": "OPmLNiZXc6aD",
        "outputId": "d2f67f7b-3890-4d29-c3bc-6457ff3f31ae"
      },
      "execution_count": null,
      "outputs": [
        {
          "output_type": "stream",
          "name": "stdout",
          "text": [
            "[1 2 3]\n",
            "(3,)\n",
            "<class 'numpy.ndarray'>\n",
            "(2, 3)\n",
            "[3 4 5 6 7 8 9]\n",
            "[10 15 20 25 30 35 40 45]\n",
            "[0.   0.25 0.5  0.75 1.  ]\n",
            "[ 1.    3.25  5.5   7.75 10.  ]\n"
          ]
        }
      ]
    },
    {
      "cell_type": "code",
      "source": [
        "print(np.ones(3))#provide the number of ones given\n",
        "print(np.zeros(5))\n",
        "print(np.random.random(3))#generate random numbers\n",
        "print(np.random.random((3,2)))#provide random numbers in the given dimension\n",
        "print(\"for 3 - D ARRAY\")\n",
        "print(np.random.random((4,3,2)))"
      ],
      "metadata": {
        "colab": {
          "base_uri": "https://localhost:8080/"
        },
        "id": "HLcb18ZofHWP",
        "outputId": "5dd81384-d733-4104-d26e-e4bb12a8b7b3"
      },
      "execution_count": null,
      "outputs": [
        {
          "output_type": "stream",
          "name": "stdout",
          "text": [
            "[1. 1. 1.]\n",
            "[0. 0. 0. 0. 0.]\n",
            "[0.65400172 0.85303881 0.60812741]\n",
            "[[0.55645326 0.42577452]\n",
            " [0.31702499 0.76879967]\n",
            " [0.80804868 0.01722589]]\n",
            "for 3 - D ARRAY\n",
            "[[[0.95321046 0.06378507]\n",
            "  [0.03867353 0.65901314]\n",
            "  [0.98568695 0.07790403]]\n",
            "\n",
            " [[0.53143174 0.61005916]\n",
            "  [0.22832552 0.1892883 ]\n",
            "  [0.10146797 0.47012204]]\n",
            "\n",
            " [[0.12900411 0.17657876]\n",
            "  [0.27477952 0.77277384]\n",
            "  [0.18997592 0.58541357]]\n",
            "\n",
            " [[0.6411989  0.75991261]\n",
            "  [0.39128193 0.29186877]\n",
            "  [0.73793131 0.91567342]]]\n"
          ]
        }
      ]
    },
    {
      "cell_type": "code",
      "source": [
        "o = np.full((2,2),10)\n",
        "print(o)#fill the 2 - d array with the number given"
      ],
      "metadata": {
        "colab": {
          "base_uri": "https://localhost:8080/"
        },
        "id": "DyWd7zECgYam",
        "outputId": "ab75fb93-d394-4f66-e334-79a92ed9c5b9"
      },
      "execution_count": null,
      "outputs": [
        {
          "output_type": "stream",
          "name": "stdout",
          "text": [
            "[[10 10]\n",
            " [10 10]]\n"
          ]
        }
      ]
    },
    {
      "cell_type": "code",
      "source": [
        "h = np.array([1,2,3],dtype = np.float64)\n",
        "print(h) # change the complete array to the given datatype\n",
        "i = np.array([1,2,3],dtype = np.complex)\n",
        "print(i)"
      ],
      "metadata": {
        "colab": {
          "base_uri": "https://localhost:8080/"
        },
        "id": "Z4dzVnzJeQL7",
        "outputId": "fddb32e7-b4cf-4264-c86b-46a85bd83a3c"
      },
      "execution_count": null,
      "outputs": [
        {
          "output_type": "stream",
          "name": "stdout",
          "text": [
            "[1. 2. 3.]\n",
            "[1.+0.j 2.+0.j 3.+0.j]\n"
          ]
        },
        {
          "output_type": "stream",
          "name": "stderr",
          "text": [
            "<ipython-input-23-0c65725d37a7>:3: DeprecationWarning: `np.complex` is a deprecated alias for the builtin `complex`. To silence this warning, use `complex` by itself. Doing this will not modify any behavior and is safe. If you specifically wanted the numpy scalar type, use `np.complex128` here.\n",
            "Deprecated in NumPy 1.20; for more details and guidance: https://numpy.org/devdocs/release/1.20.0-notes.html#deprecations\n",
            "  i = np.array([1,2,3],dtype = np.complex)\n"
          ]
        }
      ]
    },
    {
      "cell_type": "code",
      "source": [
        "#slicing\n",
        "w = np.array([3,4,5])\n",
        "print(w[0])#access the index\n",
        "f = np.array([[1,3,5],[2,4,6]])\n",
        "print(f[0,1])#access in the 2-D array\n",
        "print(f[0:2,0])#:is for slicing and , is for next set\n",
        "i = np.array([[1,2,3,4],[5,6,7,8],[9,10,11,12]])\n",
        "x = i[1:3,2:4]\n",
        "print(x)"
      ],
      "metadata": {
        "colab": {
          "base_uri": "https://localhost:8080/"
        },
        "id": "dMeIstB5iZm2",
        "outputId": "14c9e5f2-52f5-4b5b-b4b6-a9f4a78cbc3f"
      },
      "execution_count": null,
      "outputs": [
        {
          "output_type": "stream",
          "name": "stdout",
          "text": [
            "3\n",
            "3\n",
            "[1 2]\n",
            "[[ 7  8]\n",
            " [11 12]]\n"
          ]
        }
      ]
    },
    {
      "cell_type": "code",
      "source": [
        "#slicing\n",
        "a = np.array([[1,2,3,4],[5,6,7,8],[9,10,11,12]])#2-d array with shape(3,4)\n",
        "r = a[1,:]\n",
        "r1 = a[1:2,:]\n",
        "r2 = a[[1],:]\n",
        "print(r,r.shape)\n",
        "print(r1,r1.shape)\n",
        "print(r2,r2.shape)\n",
        "print()\n",
        "print()\n",
        "c = a[:,1]\n",
        "c1 = a[:,1:2]\n",
        "print(c,c.shape)\n",
        "print()\n",
        "print(c1,c1.shape)"
      ],
      "metadata": {
        "colab": {
          "base_uri": "https://localhost:8080/"
        },
        "id": "PMPlMrP2lz1K",
        "outputId": "a11451b7-38b1-4bfb-ab6b-fd8935204959"
      },
      "execution_count": null,
      "outputs": [
        {
          "output_type": "stream",
          "name": "stdout",
          "text": [
            "[5 6 7 8] (4,)\n",
            "[[5 6 7 8]] (1, 4)\n",
            "[[5 6 7 8]] (1, 4)\n",
            "\n",
            "\n",
            "[ 2  6 10] (3,)\n",
            "\n",
            "[[ 2]\n",
            " [ 6]\n",
            " [10]] (3, 1)\n"
          ]
        }
      ]
    },
    {
      "cell_type": "code",
      "source": [
        "a = np.array([[1,2,3],[4,5,6],[7,8,9],[10,11,12]])\n",
        "print(a)\n",
        "print(a.shape)\n",
        "#create an array of indices\n",
        "b = np.array([0,2,0,1])\n",
        "#select one element from each row of a string and with array indices\n",
        "print(a[np.arange(4),b])"
      ],
      "metadata": {
        "colab": {
          "base_uri": "https://localhost:8080/"
        },
        "id": "bGC6Ffs25s2W",
        "outputId": "3180f5ce-e07a-43c6-b872-a46c7470a83d"
      },
      "execution_count": null,
      "outputs": [
        {
          "output_type": "stream",
          "name": "stdout",
          "text": [
            "[[ 1  2  3]\n",
            " [ 4  5  6]\n",
            " [ 7  8  9]\n",
            " [10 11 12]]\n",
            "(4, 3)\n",
            "[ 1  6  7 11]\n"
          ]
        }
      ]
    },
    {
      "cell_type": "code",
      "source": [
        "p = np.array([[1,2],[3,4],[5,6]])\n",
        "bool_idx = (p>2) #if the condition satisfies assign the value as true else assign as false\n",
        "print(bool_idx)\n",
        "b = p[p>2] #this can assign the values if the condition is true\n",
        "print(b)"
      ],
      "metadata": {
        "colab": {
          "base_uri": "https://localhost:8080/"
        },
        "id": "k6wn2Er99ghW",
        "outputId": "81d34812-b7f2-472b-dcec-92fed1fe7871"
      },
      "execution_count": null,
      "outputs": [
        {
          "output_type": "stream",
          "name": "stdout",
          "text": [
            "[[False False]\n",
            " [ True  True]\n",
            " [ True  True]]\n",
            "[3 4 5 6]\n"
          ]
        }
      ]
    },
    {
      "cell_type": "code",
      "source": [
        "n = np.array([1,8,9,-3,2,4,7,9])\n",
        "print(np.argmax(n))\n",
        "print(np.argmin(n))\n",
        "print(np.argsort(a))\n",
        "print(np.where(n>5)[0])\n",
        "print(np.where(n >= n[np.argmax(n)])[0])"
      ],
      "metadata": {
        "colab": {
          "base_uri": "https://localhost:8080/"
        },
        "id": "CAlyUCCB-gtB",
        "outputId": "961e87ac-29ed-487a-9f95-7f12cfe22d6d"
      },
      "execution_count": null,
      "outputs": [
        {
          "output_type": "stream",
          "name": "stdout",
          "text": [
            "2\n",
            "3\n",
            "[0 1 2]\n",
            "[1 2 6 7]\n",
            "[2 7]\n"
          ]
        }
      ]
    },
    {
      "cell_type": "code",
      "source": [
        "a = [0]\n",
        "a = np.append(a,[1,2,3,4,3])\n",
        "print(a)\n",
        "a = np.delete(a,[2,3,5])#use index to delete\n",
        "print(a)"
      ],
      "metadata": {
        "colab": {
          "base_uri": "https://localhost:8080/"
        },
        "id": "-v8aS2xQ_mNW",
        "outputId": "5aa9d86b-f0aa-4db5-eb9f-1ab1a28e888e"
      },
      "execution_count": null,
      "outputs": [
        {
          "output_type": "stream",
          "name": "stdout",
          "text": [
            "[0 1 2 3 4 3]\n",
            "[0 1 4]\n"
          ]
        }
      ]
    },
    {
      "cell_type": "code",
      "source": [
        "#sorting-default is quicksort we can also provide all sortings\n",
        "a = np.array([[1,10],[9,7],[5,6]])\n",
        "print(a)\n",
        "print()\n",
        "a = np.sort(a,axis=0,kind='quicksort')#sort with in that [] itself 1=column 0-row\n",
        "print(a)"
      ],
      "metadata": {
        "colab": {
          "base_uri": "https://localhost:8080/"
        },
        "id": "8yU5LGfTCG4S",
        "outputId": "d83725cc-c4bd-4dc6-e75c-d5a0454a949a"
      },
      "execution_count": null,
      "outputs": [
        {
          "output_type": "stream",
          "name": "stdout",
          "text": [
            "[[ 1 10]\n",
            " [ 9  7]\n",
            " [ 5  6]]\n",
            "\n",
            "[[ 1  6]\n",
            " [ 5  7]\n",
            " [ 9 10]]\n"
          ]
        }
      ]
    },
    {
      "cell_type": "code",
      "source": [
        "#matrix multiplication\n",
        "\n",
        "a = np.array([[1,2,3],[3,4]])\n",
        "b = np.array([[1,2],[3,4]])\n",
        "\n",
        "v = np.array([9,10])\n",
        "w = np.array([11,12])\n",
        "\n",
        "#dot operation can be done in these methods\n",
        "print(v.dot(w))\n",
        "print(np.dot(v,w))\n",
        "print(v @ w)\n",
        "\n",
        "\n",
        "print(a.shape)\n",
        "#print(a.reshape(1,1)) - Error\n",
        "\n",
        "#max,min,sum\n",
        "#print(np.max(a))\n",
        "#print(np.min(a))\n",
        "#print(np.sum(a))\n",
        "\n",
        "\n"
      ],
      "metadata": {
        "colab": {
          "base_uri": "https://localhost:8080/"
        },
        "id": "Zc0as8JADjV7",
        "outputId": "867d4e41-0dae-4063-85c2-b762b8f0d5d5"
      },
      "execution_count": null,
      "outputs": [
        {
          "output_type": "stream",
          "name": "stdout",
          "text": [
            "219\n",
            "219\n",
            "219\n",
            "(2,)\n"
          ]
        },
        {
          "output_type": "stream",
          "name": "stderr",
          "text": [
            "<ipython-input-71-c9db99719779>:3: VisibleDeprecationWarning: Creating an ndarray from ragged nested sequences (which is a list-or-tuple of lists-or-tuples-or ndarrays with different lengths or shapes) is deprecated. If you meant to do this, you must specify 'dtype=object' when creating the ndarray.\n",
            "  a = np.array([[1,2,3],[3,4]])\n"
          ]
        }
      ]
    },
    {
      "cell_type": "code",
      "source": [
        "from re import A\n",
        "A = np.array([[1,2,3],[3,4]])\n",
        "b = a.squeeze()\n",
        "print(b)\n"
      ],
      "metadata": {
        "colab": {
          "base_uri": "https://localhost:8080/"
        },
        "id": "BO9l4OvYFLKl",
        "outputId": "a7e7d60a-95ab-419f-8360-30b5e2d7ccea"
      },
      "execution_count": null,
      "outputs": [
        {
          "output_type": "stream",
          "name": "stdout",
          "text": [
            "[list([1, 2, 3]) list([3, 4])]\n"
          ]
        },
        {
          "output_type": "stream",
          "name": "stderr",
          "text": [
            "<ipython-input-52-872c97f07561>:2: VisibleDeprecationWarning: Creating an ndarray from ragged nested sequences (which is a list-or-tuple of lists-or-tuples-or ndarrays with different lengths or shapes) is deprecated. If you meant to do this, you must specify 'dtype=object' when creating the ndarray.\n",
            "  A = np.array([[1,2,3],[3,4]])\n"
          ]
        }
      ]
    },
    {
      "cell_type": "code",
      "source": [
        "#broadcasting - extend and add\n",
        "print(np.array([3,4,5])+np.array([1]))\n",
        "print()\n",
        "print(np.array([[2,3,4],[5,6,7]])+np.array([1,2,3]))"
      ],
      "metadata": {
        "colab": {
          "base_uri": "https://localhost:8080/"
        },
        "id": "kT9qKW4mFYwW",
        "outputId": "00b67170-747e-45d1-93ac-437b2f3f1cdc"
      },
      "execution_count": null,
      "outputs": [
        {
          "output_type": "stream",
          "name": "stdout",
          "text": [
            "[4 5 6]\n",
            "\n",
            "[[ 3  5  7]\n",
            " [ 6  8 10]]\n"
          ]
        }
      ]
    }
  ]
}